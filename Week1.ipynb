{
 "cells": [
  {
   "cell_type": "code",
   "execution_count": 1,
   "metadata": {},
   "outputs": [
    {
     "name": "stdout",
     "output_type": "stream",
     "text": [
      "a =\r\n",
      "\r\n",
      "   0.70872   0.26297   0.40142\r\n",
      "   0.26608   0.83510   0.31781\r\n",
      "   0.84736   0.80086   0.78152\r\n",
      "\r\n"
     ]
    }
   ],
   "source": [
    "a = rand(3,3)"
   ]
  },
  {
   "cell_type": "code",
   "execution_count": 33,
   "metadata": {},
   "outputs": [
    {
     "name": "stdout",
     "output_type": "stream",
     "text": [
      "v =\n",
      "\n",
      "   0   0   0\n",
      "   0   0   0\n",
      "   0   0   0\n",
      "\n",
      " 0.50228\n",
      " 0.71801\n",
      " 0.69739\n",
      " 0.64138\n",
      " 0.61078\n",
      "v =\n",
      "\n",
      "   0.502283   0.069153   0.161136\n",
      "   0.070797   0.697386   0.101004\n",
      "   0.718012   0.641379   0.610776\n",
      "\n"
     ]
    }
   ],
   "source": [
    "v = zeros(3)\n",
    "for i = 1:9\n",
    "    v(i) = a(i)^2;\n",
    "    if v(i) > 0.5,\n",
    "        disp(v(i))\n",
    "    end\n",
    "end;\n",
    "v\n"
   ]
  },
  {
   "cell_type": "code",
   "execution_count": 47,
   "metadata": {},
   "outputs": [],
   "source": [
    "function y = square(x)\n",
    "y = x^2;\n",
    "end"
   ]
  },
  {
   "cell_type": "code",
   "execution_count": 60,
   "metadata": {},
   "outputs": [
    {
     "name": "stdout",
     "output_type": "stream",
     "text": [
      " 4\n",
      " 8\n"
     ]
    }
   ],
   "source": [
    "function [y1, y2] = squareAndCube(x)\n",
    "% Squares and Cubes the input x\n",
    "y1 = x^2;\n",
    "y2 = x^3;\n",
    "end\n",
    "\n",
    "[y1,y2] = squareAndCube(2);\n",
    "disp(y1)\n",
    "disp(y2)"
   ]
  },
  {
   "cell_type": "code",
   "execution_count": 62,
   "metadata": {},
   "outputs": [
    {
     "name": "stdout",
     "output_type": "stream",
     "text": [
      "error: load: unable to determine file format of 'machine-learning-ex1/ex1/computeCost.m'\r\n"
     ]
    }
   ],
   "source": [
    "load(\"machine-learning-ex1/ex1/computeCost.m\")"
   ]
  },
  {
   "cell_type": "code",
   "execution_count": null,
   "metadata": {},
   "outputs": [],
   "source": []
  }
 ],
 "metadata": {
  "kernelspec": {
   "display_name": "Octave",
   "language": "octave",
   "name": "octave"
  },
  "language_info": {
   "file_extension": ".m",
   "help_links": [
    {
     "text": "GNU Octave",
     "url": "https://www.gnu.org/software/octave/support.html"
    },
    {
     "text": "Octave Kernel",
     "url": "https://github.com/Calysto/octave_kernel"
    },
    {
     "text": "MetaKernel Magics",
     "url": "https://metakernel.readthedocs.io/en/latest/source/README.html"
    }
   ],
   "mimetype": "text/x-octave",
   "name": "octave",
   "version": "4.2.2"
  }
 },
 "nbformat": 4,
 "nbformat_minor": 2
}
